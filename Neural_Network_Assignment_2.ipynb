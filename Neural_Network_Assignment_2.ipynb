{
  "nbformat": 4,
  "nbformat_minor": 0,
  "metadata": {
    "colab": {
      "provenance": []
    },
    "kernelspec": {
      "name": "python3",
      "display_name": "Python 3"
    },
    "language_info": {
      "name": "python"
    }
  },
  "cells": [
    {
      "cell_type": "code",
      "execution_count": null,
      "metadata": {
        "colab": {
          "base_uri": "https://localhost:8080/"
        },
        "id": "nMGyjimaDH1T",
        "outputId": "dad26373-70bc-4348-91ff-7764ace2075d"
      },
      "outputs": [
        {
          "output_type": "stream",
          "name": "stdout",
          "text": [
            "Enter your first name: Goutham Reddy\n",
            "Enter your last name: Gunnala\n",
            "Full name: Goutham Reddy Gunnala\n"
          ]
        }
      ],
      "source": [
        "#Task-1 Part-1\n",
        "def fullname(first_name, last_name):\n",
        "    return f\"{first_name} {last_name}\"\n",
        "\n",
        "first_name = input(\"Enter your first name: \")\n",
        "last_name = input(\"Enter your last name: \")\n",
        "full_name = fullname(first_name, last_name)\n",
        "print(\"Full name:\", full_name)\n",
        "\n"
      ]
    },
    {
      "cell_type": "code",
      "source": [
        "#Task-1 Part-2\n",
        "def string_alternative(string):\n",
        "    return string[::2]\n",
        "\n",
        "def main():\n",
        "    full_name = fullname(first_name, last_name)\n",
        "    print(\"Full name:\", full_name)\n",
        "    print(\"String alternative:\", string_alternative(full_name))\n",
        "\n",
        "if __name__ == \"__main__\":\n",
        "    main()\n",
        "\n"
      ],
      "metadata": {
        "colab": {
          "base_uri": "https://localhost:8080/"
        },
        "id": "Pn1TVlGpDsVG",
        "outputId": "4f185165-8796-4790-e6fd-0e8d85e01d18"
      },
      "execution_count": null,
      "outputs": [
        {
          "output_type": "stream",
          "name": "stdout",
          "text": [
            "Full name: Goutham Reddy Gunnala\n",
            "String alternative: GuhmRdyGnaa\n"
          ]
        }
      ]
    },
    {
      "cell_type": "code",
      "source": [
        "#Task-2\n",
        "def word_count(input_file, output_file):\n",
        "    with open(input_file, 'r') as file:\n",
        "        lines = file.readlines()\n",
        "\n",
        "    word_counts = {}\n",
        "    for line in lines:\n",
        "        words = line.split()\n",
        "        for word in words:\n",
        "            word_counts[word] = word_counts.get(word, 0) + 1\n",
        "\n",
        "    with open(output_file, 'w') as file:\n",
        "        for line in lines:\n",
        "            file.write(line)\n",
        "        file.write(\"\\nWord_Count:\\n\")\n",
        "        for word, count in word_counts.items():\n",
        "            file.write(f\"{word}: {count}\\n\")\n",
        "\n",
        "word_count('input.txt', 'output.txt')\n"
      ],
      "metadata": {
        "id": "9U2zla8lEhMw"
      },
      "execution_count": null,
      "outputs": []
    },
    {
      "cell_type": "code",
      "source": [
        "#Task-3 Part-1\n",
        "def inches_to_cm_nested(heights_in_inches):\n",
        "    heights_in_cm = []\n",
        "    for height in heights_in_inches:\n",
        "        heights_in_cm.append(height * 2.54)\n",
        "    return heights_in_cm\n",
        "\n",
        "def main_nested():\n",
        "    heights = []\n",
        "    n = int(input(\"Enter the number of heights: \"))\n",
        "    for i in range(n):\n",
        "        height = float(input(f\"Enter height {i+1} in inches: \"))\n",
        "        heights.append(height)\n",
        "    heights_in_cm = inches_to_cm_nested(heights)\n",
        "    print(\"Heights in cm (nested loops):\", heights_in_cm)\n",
        "\n",
        "main_nested()\n"
      ],
      "metadata": {
        "colab": {
          "base_uri": "https://localhost:8080/"
        },
        "id": "iyQxHsOxH-oq",
        "outputId": "1eed1b7c-ee3a-4172-9733-f90efd3b0853"
      },
      "execution_count": null,
      "outputs": [
        {
          "output_type": "stream",
          "name": "stdout",
          "text": [
            "Enter the number of heights: 4\n",
            "Enter height 1 in inches: 122\n",
            "Enter height 2 in inches: 123\n",
            "Enter height 3 in inches: 1234\n",
            "Enter height 4 in inches: 23\n",
            "Heights in cm (nested loops): [309.88, 312.42, 3134.36, 58.42]\n"
          ]
        }
      ]
    },
    {
      "cell_type": "code",
      "source": [
        "#Task-3 Part-2\n",
        "def inches_to_cm_comprehension(heights_in_inches):\n",
        "    return [height * 2.54 for height in heights_in_inches]\n",
        "\n",
        "def main_comprehension():\n",
        "    heights = []\n",
        "    n = int(input(\"Enter the number of heights: \"))\n",
        "    for i in range(n):\n",
        "        height = float(input(f\"Enter height {i+1} in inches: \"))\n",
        "        heights.append(height)\n",
        "    heights_in_cm = inches_to_cm_comprehension(heights)\n",
        "    print(\"Heights in cm (list comprehensions):\", heights_in_cm)\n",
        "\n",
        "main_comprehension()\n"
      ],
      "metadata": {
        "colab": {
          "base_uri": "https://localhost:8080/"
        },
        "id": "xtv9iSKJIppE",
        "outputId": "944d2c3b-b8f9-4317-de9c-ae4437a224a3"
      },
      "execution_count": null,
      "outputs": [
        {
          "output_type": "stream",
          "name": "stdout",
          "text": [
            "Enter the number of heights: 3\n",
            "Enter height 1 in inches: 12\n",
            "Enter height 2 in inches: 13\n",
            "Enter height 3 in inches: 50\n",
            "Heights in cm (list comprehensions): [30.48, 33.02, 127.0]\n"
          ]
        }
      ]
    }
  ]
}